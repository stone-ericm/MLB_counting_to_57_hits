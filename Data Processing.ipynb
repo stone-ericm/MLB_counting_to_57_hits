{
 "cells": [
  {
   "cell_type": "code",
   "execution_count": 1,
   "metadata": {},
   "outputs": [],
   "source": [
    "import os\n",
    "import pandas as pd\n",
    "pd.set_option(\"display.max_columns\", None)"
   ]
  },
  {
   "cell_type": "code",
   "execution_count": 2,
   "metadata": {},
   "outputs": [],
   "source": [
    "def assemble_stats(year):\n",
    "    _dir = os.listdir(year + 'eve')\n",
    "    _dir = [x for x in _dir if x[0] == '2']\n",
    "\n",
    "    # make two dfs - one building season stats and the other assembling each game senario\n",
    "\n",
    "    season_df = pd.DataFrame(columns=['player_id', 'PAs', 'Hits'])\n",
    "    senario_df = pd.DataFrame()\n",
    "    game_variables = {}\n",
    "    starting_pitchers = []\n",
    "    pitchers = pd.DataFrame()\n",
    "    \n",
    "    for file in _dir:\n",
    "        f = open(year + 'eve/' + file, 'r')\n",
    "        print(file)\n",
    "        for line in f:\n",
    "            line = line.split(',')\n",
    "\n",
    "            if line[0] == 'id':\n",
    "                game_variables = {}\n",
    "                starting_pitchers = []\n",
    "            if line[0] == 'version':\n",
    "                pass\n",
    "\n",
    "            if line[0] == 'info':\n",
    "                if line[1] == 'visteam':\n",
    "                    pass\n",
    "    #                 if line[2].strip() == team:\n",
    "    #                     home = False\n",
    "                elif line[1] == 'hometeam':\n",
    "                    pass\n",
    "    #                 if line[2].strip() == team:\n",
    "    #                     home = True\n",
    "\n",
    "                else:\n",
    "                    if line[1] not in ['wp', 'lp', 'save']:\n",
    "                        game_variables[line[1]] = line[2].strip()\n",
    "            if line[0] == 'start':\n",
    "                if line[3] == '0' and line[5] == '1\\n':\n",
    "                    starting_pitchers.append(line[1])\n",
    "                    pitchers.append({'player_id': line[1]})\n",
    "#                     starting_pitchers['away_SP'] = line[1]\n",
    "                elif line[3] == '1' and line[5] == '1\\n':\n",
    "                    starting_pitchers.insert(0, line[1])\n",
    "#                     starting_pitchers['home_SP'] = line[1]\n",
    "\n",
    "            if line[0] == 'play':\n",
    "                if line[6] != 'NP\\n':\n",
    "\n",
    "                    if line[3] not in season_df['player_id'].unique():\n",
    "                        season_df = season_df.append({'player_id': line[3], 'PAs': 0, 'Hits': 0}, ignore_index = True)\n",
    "\n",
    "\n",
    "                    if line[5][-1] == 'X':\n",
    "\n",
    "                        if line[6][0] in ['S', 'D', 'T', 'H']:\n",
    "                            season_df.loc[season_df['player_id'].isin([line[3]]), ['PAs']] += 1\n",
    "                            season_df.loc[season_df['player_id'].isin([line[3]]), ['Hits']] += 1\n",
    "                            senario_df = senario_df.append({**game_variables, \n",
    "                                                **{'hit': 1, 'player': line[3],\n",
    "                                                 'PAs': season_df[season_df['player_id'] == line[3]]['PAs'].values[0], \n",
    "                                                   'Hits': season_df[season_df['player_id'] == line[3]]['Hits'].values[0],\n",
    "                                                  'Opposing_SP': starting_pitchers[int(line[2])]}}, \n",
    "                                               ignore_index=True)\n",
    "                        else:\n",
    "                            season_df.loc[season_df['player_id'].isin([line[3]]), 'PAs'] += 1\n",
    "                            senario_df = senario_df.append({**game_variables, \n",
    "                                                **{'hit': 0, 'player': line[3],\n",
    "                                                 'PAs': season_df[season_df['player_id'] == line[3]]['PAs'].values[0], \n",
    "                                                   'Hits': season_df[season_df['player_id'] == line[3]]['Hits'].values[0],\n",
    "                                                  'Opposing_SP': starting_pitchers[int(line[2])]}}, \n",
    "                                               ignore_index=True)\n",
    "                            \n",
    "                    elif line[5][-1] in ['C', 'S', 'B', 'T', 'H', 'M', 'V', 'K', 'U', 'Q'] and line[6][:2] not in ['WP', 'PB', 'SB', 'CS']:\n",
    "                        season_df.loc[season_df['player_id'].isin([line[3]]), 'PAs'] += 1\n",
    "                        senario_df = senario_df.append({**game_variables, \n",
    "                                            **{'hit': 0, 'player': line[3],\n",
    "                                             'PAs': season_df[season_df['player_id'] == line[3]]['PAs'].values[0], \n",
    "                                               'Hits': season_df[season_df['player_id'] == line[3]]['Hits'].values[0],\n",
    "                                                  'Opposing_SP': starting_pitchers[int(line[2])]}}, \n",
    "                                           ignore_index=True)\n",
    "\n",
    "        \n",
    "#         move later in code to allow for manipulation of cumulative stats\n",
    "#         if not senario_df.empty:\n",
    "#             senario_df = senario_df.sort_values('hit').drop_duplicates(subset=['date', 'number', 'player'], keep='last')\n",
    "    return(senario_df, season_df)"
   ]
  },
  {
   "cell_type": "code",
   "execution_count": null,
   "metadata": {},
   "outputs": [],
   "source": [
    "senario_df, season_df = assemble_stats('2019')\n",
    "senario_df.to_csv('2019eve/senario_df.csv', index=False)\n",
    "season_df.to_csv('2019eve/season_df.csv', index=False)\n",
    "\n",
    "senario_df, season_df = assemble_stats('2020')\n",
    "senario_df.to_csv('2020eve/senario_df.csv', index=False)\n",
    "season_df.to_csv('2020eve/season_df.csv', index=False)"
   ]
  },
  {
   "cell_type": "markdown",
   "metadata": {},
   "source": [
    "box score processing\n",
    "\n",
    "\n",
    "https://widgets.sports-reference.com/wg.fcgi?css=1&site=br&url=%2Fboxes%2FLAN%2FLAN202107210.shtml&div=div_SanFranciscoGiantsbatting\n",
    "\n",
    "https://widgets.sports-reference.com/wg.fcgi?css=1&site=br&url=%2Fboxes%2FCIN%2FCIN202107210.shtml&div=div_NewYorkMetsbatting\n",
    "\n",
    "https://widgets.sports-reference.com/wg.fcgi?css=1&site=br&url=%2Fboxes%2FLAN%2FLAN202107210.shtml&div=div_SanFranciscoGiantspitching\n",
    "\n",
    "https://widgets.sports-reference.com/wg.fcgi?css=1&site=br&url=%2Fboxes%2F{oppent_abr}%2F{oppent_abr}{date}.shtml&div=div_{team_full_name}{batting/pitching}"
   ]
  },
  {
   "cell_type": "code",
   "execution_count": null,
   "metadata": {},
   "outputs": [],
   "source": [
    "# import schedules\n",
    "schedule_2019 = pd.read_csv('2019SKED.TXT', columns=['date', 'doubleheader', 'day_of_week', 'visiting_team', 'visiting_league', 'v_game_number', 'home_team', 'home_league', 'h_game_number', 'daynight', 'postponed', 'makeup'])\n",
    "schedule_2020 = pd.read_csv('2020REV.TXT', columns=['date', 'doubleheader', 'day_of_week', 'visiting_team', 'visiting_league', 'v_game_number', 'home_team', 'home_league', 'h_game_number', 'daynight', 'postponed', 'makeup'])\n",
    "schedule_2021 = pd.read_csv('2021SKED.TXT', columns=['date', 'doubleheader', 'day_of_week', 'visiting_team', 'visiting_league', 'v_game_number', 'home_team', 'home_league', 'h_game_number', 'daynight', 'postponed', 'makeup'])\n"
   ]
  },
  {
   "cell_type": "code",
   "execution_count": null,
   "metadata": {},
   "outputs": [],
   "source": [
    "# baseball-reference api\n",
    "\n",
    "home_team = ''.upper()   # NYM\n",
    "date = ''                 # 202107210\n",
    "team_full_name = ''       # NewYorkMets\n",
    "\n",
    "URL = f'https://widgets.sports-reference.com/wg.fcgi?css=1&site=br&url=%2Fboxes%2F{home_team}%2F{home_team}{date}.shtml&div=div_{team_full_name}{batting_pitching}'"
   ]
  },
  {
   "cell_type": "code",
   "execution_count": null,
   "metadata": {},
   "outputs": [],
   "source": [
    "# Visual Crossing api (weather data)\n",
    "\n",
    "'''Data for multiple locations can be requested in a single request\n",
    "by concatenating multiple locations using the pipe (|) character.\n",
    "'''\n",
    "'''strat for writing api calls\n",
    "\n",
    "group by date and time'''\n",
    "\n",
    "URL = 'https://weather.visualcrossing.com/VisualCrossingWebServices/rest/services/weatherdata/history?&aggregateHours=24&startDateTime=2019-06-13T00:00:00&endDateTime=2019-06-20T00:00:00&unitGroup=uk&contentType=csv&dayStartTime=0:0:00&dayEndTime=0:0:00&location=Sterling,VA,US&key={api}'\n"
   ]
  }
 ],
 "metadata": {
  "kernelspec": {
   "display_name": "learn-env",
   "language": "python",
   "name": "learn-env"
  },
  "language_info": {
   "codemirror_mode": {
    "name": "ipython",
    "version": 3
   },
   "file_extension": ".py",
   "mimetype": "text/x-python",
   "name": "python",
   "nbconvert_exporter": "python",
   "pygments_lexer": "ipython3",
   "version": "3.8.5"
  }
 },
 "nbformat": 4,
 "nbformat_minor": 4
}
